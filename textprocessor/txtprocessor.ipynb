{
 "cells": [
  {
   "cell_type": "markdown",
   "metadata": {},
   "source": [
    "# Text Processor\n",
    "\n",
    "## Goal\n",
    "\n",
    "Create a raw text processer, that would return proper tokinised and tagged text in the form of list of centences, which in turn are a list of words/tag, plus some method for quick text pre-analysis.\n",
    "\n",
    "## Purpose\n",
    "\n",
    "Current document is a research log and test of Text Processor implementations."
   ]
  },
  {
   "cell_type": "code",
   "execution_count": 1,
   "metadata": {
    "collapsed": true
   },
   "outputs": [],
   "source": [
    "EXM_FILE = 'data/news.txt'"
   ]
  },
  {
   "cell_type": "markdown",
   "metadata": {},
   "source": [
    "### Importing necessary libraries"
   ]
  },
  {
   "cell_type": "code",
   "execution_count": 2,
   "metadata": {
    "collapsed": true
   },
   "outputs": [],
   "source": [
    "# The %... is an iPython thing, and is not part of the Python language.\n",
    "# In this case we're just telling the plotting library to draw things on\n",
    "# the notebook, instead of on a separate window.\n",
    "%matplotlib inline \n",
    "#this line above prepares IPython notebook for working with matplotlib\n",
    "\n",
    "# See all the \"as ...\" contructs? They're just aliasing the package names.\n",
    "# That way we can call methods like plt.plot() instead of matplotlib.pyplot.plot().\n",
    "\n",
    "import numpy as np # imports a fast numerical programming library\n",
    "import scipy as sp #imports stats functions, amongst other things\n",
    "import matplotlib as mpl # this actually imports matplotlib\n",
    "import matplotlib.cm as cm #allows us easy access to colormaps\n",
    "import matplotlib.pyplot as plt #sets up plotting under plt\n",
    "import pandas as pd #lets us handle data as dataframes\n",
    "#sets up pandas table display\n",
    "pd.set_option('display.width', 500)\n",
    "pd.set_option('display.max_columns', 100)\n",
    "pd.set_option('display.notebook_repr_html', True)\n",
    "import seaborn as sns #sets up styles and gives us more plotting options\n",
    "sns.set_style(\"whitegrid\")\n",
    "sns.set_context(\"poster\")\n",
    "\n",
    "# NLTK imports\n",
    "import nltk"
   ]
  },
  {
   "cell_type": "code",
   "execution_count": 3,
   "metadata": {
    "collapsed": true
   },
   "outputs": [],
   "source": [
    "# Read raw text\n",
    "f = open(EXM_FILE, 'r')\n",
    "text = nltk.Text(nltk.word_tokenize(f.read()))\n",
    "f.close()"
   ]
  },
  {
   "cell_type": "code",
   "execution_count": 4,
   "metadata": {},
   "outputs": [
    {
     "data": {
      "text/plain": [
       "['From',\n",
       " 'The',\n",
       " 'Dialy',\n",
       " 'Oklahoman',\n",
       " 'Newspaper',\n",
       " ',',\n",
       " 'September',\n",
       " '27',\n",
       " ',',\n",
       " '1993',\n",
       " ',',\n",
       " 'Page',\n",
       " '1',\n",
       " ':',\n",
       " 'COMPUTER',\n",
       " 'PORN',\n",
       " 'CASE',\n",
       " 'TRIGGERS',\n",
       " 'LEGAL',\n",
       " 'QUESTIONS',\n",
       " 'By',\n",
       " 'David',\n",
       " 'Zizzo',\n",
       " ',',\n",
       " 'Staff',\n",
       " 'Writer',\n",
       " 'Is',\n",
       " 'talking',\n",
       " 'to',\n",
       " 'Anthony',\n",
       " 'Davis',\n",
       " 'hazardous',\n",
       " 'to',\n",
       " 'your',\n",
       " 'health',\n",
       " '?',\n",
       " 'In',\n",
       " 'a',\n",
       " 'manner',\n",
       " 'of',\n",
       " 'speaking',\n",
       " ',',\n",
       " 'that',\n",
       " \"'s\",\n",
       " 'what',\n",
       " 'numerous',\n",
       " 'people',\n",
       " 'with',\n",
       " 'computers',\n",
       " 'and',\n",
       " 'modems',\n",
       " 'apparently',\n",
       " 'have',\n",
       " 'been',\n",
       " 'worrying',\n",
       " 'about',\n",
       " 'since',\n",
       " 'late',\n",
       " 'July',\n",
       " '.',\n",
       " 'That',\n",
       " \"'s\",\n",
       " 'when',\n",
       " 'Oklahoma',\n",
       " 'City',\n",
       " 'police',\n",
       " 'raided',\n",
       " 'Davis',\n",
       " \"'\",\n",
       " 'software',\n",
       " 'publishing',\n",
       " 'firm',\n",
       " 'and',\n",
       " 'confiscated',\n",
       " 'his',\n",
       " 'sophisticated',\n",
       " 'commercial',\n",
       " 'computer',\n",
       " 'bulletin',\n",
       " 'board',\n",
       " 'system',\n",
       " '.',\n",
       " 'Authorities',\n",
       " 'allege',\n",
       " 'Davis',\n",
       " 'was',\n",
       " 'selling',\n",
       " 'pornographic',\n",
       " 'computerized',\n",
       " 'materials',\n",
       " 'on',\n",
       " 'CD-ROM',\n",
       " 'and',\n",
       " 'through',\n",
       " 'files',\n",
       " 'downloaded',\n",
       " 'over',\n",
       " 'phone',\n",
       " 'lines',\n",
       " '.',\n",
       " 'Names',\n",
       " 'of',\n",
       " 'everyone',\n",
       " 'who',\n",
       " 'signed',\n",
       " 'onto',\n",
       " 'Davis',\n",
       " \"'\",\n",
       " 'bulletin',\n",
       " 'board',\n",
       " 'service',\n",
       " ',',\n",
       " 'those',\n",
       " 'who',\n",
       " 'downloaded',\n",
       " 'or',\n",
       " 'uploaded',\n",
       " 'graphic',\n",
       " 'files',\n",
       " 'depicting',\n",
       " 'sexual',\n",
       " 'acts',\n",
       " 'and',\n",
       " 'those',\n",
       " 'who',\n",
       " 'did',\n",
       " \"n't\",\n",
       " 'are',\n",
       " 'in',\n",
       " 'the',\n",
       " 'hands',\n",
       " 'of',\n",
       " 'investigators',\n",
       " '.',\n",
       " 'After',\n",
       " 'the',\n",
       " 'arrest',\n",
       " ',',\n",
       " 'Earl',\n",
       " 'Faubion',\n",
       " ',',\n",
       " 'a',\n",
       " 'police',\n",
       " 'officer',\n",
       " 'who',\n",
       " 'runs',\n",
       " 'a',\n",
       " 'law',\n",
       " 'enforcement',\n",
       " 'oriented',\n",
       " 'computer',\n",
       " 'bulletin',\n",
       " 'board',\n",
       " 'system',\n",
       " ',',\n",
       " 'got',\n",
       " 'numerous',\n",
       " 'inquiries',\n",
       " 'from',\n",
       " 'worried',\n",
       " 'users',\n",
       " '.',\n",
       " '``',\n",
       " 'There',\n",
       " 'are',\n",
       " 'a',\n",
       " 'lot',\n",
       " 'of',\n",
       " 'people',\n",
       " 'concerned',\n",
       " ',',\n",
       " \"''\",\n",
       " 'Faubion',\n",
       " 'said',\n",
       " '.',\n",
       " 'Many',\n",
       " 'who',\n",
       " 'used',\n",
       " 'Davis',\n",
       " \"'\",\n",
       " 'system',\n",
       " 'for',\n",
       " 'months',\n",
       " 'and',\n",
       " 'have',\n",
       " 'been',\n",
       " 'asking',\n",
       " ',',\n",
       " '``',\n",
       " 'Am',\n",
       " 'I',\n",
       " 'in',\n",
       " 'trouble',\n",
       " '?',\n",
       " \"''\",\n",
       " 'Faubion',\n",
       " ',',\n",
       " 'who',\n",
       " 'ironically',\n",
       " 'channeled',\n",
       " 'much',\n",
       " 'of',\n",
       " 'his',\n",
       " 'computer',\n",
       " 'system',\n",
       " \"'s\",\n",
       " 'private',\n",
       " 'mail',\n",
       " 'through',\n",
       " 'Davis',\n",
       " \"'\",\n",
       " 'system',\n",
       " 'before',\n",
       " 'it',\n",
       " 'was',\n",
       " 'shut',\n",
       " 'down',\n",
       " ',',\n",
       " 'tells',\n",
       " 'users',\n",
       " 'that',\n",
       " \"'s\",\n",
       " 'out',\n",
       " 'of',\n",
       " 'his',\n",
       " 'area',\n",
       " 'of',\n",
       " 'expertise',\n",
       " '.',\n",
       " 'Bill',\n",
       " 'Holmes',\n",
       " ',',\n",
       " 'Davis',\n",
       " \"'\",\n",
       " 'attorney',\n",
       " ',',\n",
       " 'said',\n",
       " 'bulletin',\n",
       " 'board',\n",
       " 'system',\n",
       " 'operators',\n",
       " 'fear',\n",
       " 'their',\n",
       " 'computers',\n",
       " 'will',\n",
       " 'be',\n",
       " 'seized',\n",
       " 'along',\n",
       " 'with',\n",
       " 'the',\n",
       " 'electronic',\n",
       " 'mail',\n",
       " 'inside',\n",
       " '.',\n",
       " 'The',\n",
       " 'Davis',\n",
       " 'bust',\n",
       " 'sent',\n",
       " 'a',\n",
       " 'chill',\n",
       " 'throughout',\n",
       " 'the',\n",
       " 'national',\n",
       " 'computer',\n",
       " 'community',\n",
       " ',',\n",
       " 'said',\n",
       " 'Jack',\n",
       " 'Rickard',\n",
       " ',',\n",
       " 'editor',\n",
       " 'and',\n",
       " 'publisher',\n",
       " 'of',\n",
       " 'Boardwatch',\n",
       " 'magazine',\n",
       " ',',\n",
       " 'a',\n",
       " 'bulletin',\n",
       " 'board',\n",
       " 'newsletter',\n",
       " 'published',\n",
       " 'in',\n",
       " 'Littleton',\n",
       " ',',\n",
       " 'Colo.',\n",
       " '``',\n",
       " 'It',\n",
       " \"'s\",\n",
       " 'causing',\n",
       " 'chaos',\n",
       " ',',\n",
       " \"''\",\n",
       " 'he',\n",
       " 'said',\n",
       " '.',\n",
       " 'Rickard',\n",
       " 'said',\n",
       " 'Oklahoma',\n",
       " 'City',\n",
       " 'is',\n",
       " 'being',\n",
       " 'viewed',\n",
       " '``',\n",
       " 'a',\n",
       " 'little',\n",
       " 'bit',\n",
       " 'like',\n",
       " 'clown',\n",
       " 'city',\n",
       " \"''\",\n",
       " 'in',\n",
       " 'computer',\n",
       " 'circles',\n",
       " ',',\n",
       " 'since',\n",
       " 'the',\n",
       " 'explicit',\n",
       " 'material',\n",
       " 'Davis',\n",
       " 'offered',\n",
       " 'can',\n",
       " 'be',\n",
       " 'purchased',\n",
       " 'in',\n",
       " 'nearly',\n",
       " 'every',\n",
       " 'computer',\n",
       " 'magazine',\n",
       " 'and',\n",
       " 'is',\n",
       " 'carried',\n",
       " 'by',\n",
       " 'numerous',\n",
       " 'bulletin',\n",
       " 'boards',\n",
       " '.',\n",
       " '``',\n",
       " 'This',\n",
       " 'is',\n",
       " 'off',\n",
       " 'the',\n",
       " 'shelf',\n",
       " ',',\n",
       " \"''\",\n",
       " 'he',\n",
       " 'said',\n",
       " '.',\n",
       " '``',\n",
       " 'It',\n",
       " \"'s\",\n",
       " 'considered',\n",
       " 'pretty',\n",
       " 'mundane',\n",
       " 'stuff',\n",
       " '.',\n",
       " \"''\",\n",
       " 'Widespread',\n",
       " 'availability',\n",
       " 'is',\n",
       " 'not',\n",
       " 'a',\n",
       " 'defense',\n",
       " ',',\n",
       " 'however',\n",
       " ',',\n",
       " 'attorney',\n",
       " 'Holmes',\n",
       " 'said',\n",
       " '.',\n",
       " 'The',\n",
       " 'allegedly',\n",
       " 'illegal',\n",
       " 'material',\n",
       " 'was',\n",
       " 'contained',\n",
       " 'on',\n",
       " 'four',\n",
       " 'read-only',\n",
       " 'memory',\n",
       " 'compact',\n",
       " 'discs',\n",
       " 'and',\n",
       " 'represented',\n",
       " 'only',\n",
       " 'a',\n",
       " 'fraction',\n",
       " 'of',\n",
       " 'information',\n",
       " 'offered',\n",
       " 'by',\n",
       " 'Davis',\n",
       " '.',\n",
       " 'Oklahoma',\n",
       " 'City',\n",
       " 'police',\n",
       " 'referred',\n",
       " 'questions',\n",
       " 'on',\n",
       " 'the',\n",
       " 'Davis',\n",
       " 'case',\n",
       " 'to',\n",
       " 'the',\n",
       " 'district',\n",
       " 'attorney',\n",
       " \"'s\",\n",
       " 'office',\n",
       " '.',\n",
       " 'An',\n",
       " 'assistant',\n",
       " 'prosecutor',\n",
       " 'handling',\n",
       " 'the',\n",
       " 'case',\n",
       " 'referred',\n",
       " 'questions',\n",
       " 'to',\n",
       " 'District',\n",
       " 'Attorney',\n",
       " 'Bob',\n",
       " 'Macy',\n",
       " ',',\n",
       " 'who',\n",
       " 'did',\n",
       " 'not',\n",
       " 'return',\n",
       " 'several',\n",
       " 'phone',\n",
       " 'calls',\n",
       " '.',\n",
       " 'The',\n",
       " 'bust',\n",
       " 'will',\n",
       " 'test',\n",
       " 'Oklahoma',\n",
       " 'laws',\n",
       " 'on',\n",
       " '``',\n",
       " 'community',\n",
       " 'standards',\n",
       " \"''\",\n",
       " 'regarding',\n",
       " 'pornography',\n",
       " ',',\n",
       " 'said',\n",
       " 'Mike',\n",
       " 'Godwin',\n",
       " ',',\n",
       " 'attorney',\n",
       " 'for',\n",
       " 'the',\n",
       " 'Electronic',\n",
       " 'Frontier',\n",
       " 'Foundation',\n",
       " '.',\n",
       " 'The',\n",
       " 'Washington',\n",
       " ',',\n",
       " 'D.C.',\n",
       " ',',\n",
       " 'advocacy',\n",
       " 'group',\n",
       " 'is',\n",
       " 'funded',\n",
       " 'by',\n",
       " 'donors',\n",
       " 'that',\n",
       " 'include',\n",
       " 'large',\n",
       " 'software',\n",
       " 'companies',\n",
       " '.',\n",
       " '``',\n",
       " 'When',\n",
       " 'you',\n",
       " 'talk',\n",
       " 'about',\n",
       " 'community',\n",
       " 'standards',\n",
       " ',',\n",
       " 'who',\n",
       " \"'s\",\n",
       " 'the',\n",
       " 'real',\n",
       " 'community',\n",
       " '?',\n",
       " \"''\",\n",
       " 'Godwin',\n",
       " 'wonders',\n",
       " '.',\n",
       " '``',\n",
       " 'Is',\n",
       " 'it',\n",
       " 'the',\n",
       " 'city',\n",
       " 'or',\n",
       " '...',\n",
       " 'the',\n",
       " 'community',\n",
       " 'of',\n",
       " 'people',\n",
       " 'on-line',\n",
       " '?',\n",
       " \"''\",\n",
       " 'Holmes',\n",
       " ',',\n",
       " 'a',\n",
       " 'former',\n",
       " 'Cleveland',\n",
       " 'County',\n",
       " 'prosecutor',\n",
       " ',',\n",
       " 'calls',\n",
       " 'Oklahoma',\n",
       " \"'s\",\n",
       " 'pornography',\n",
       " 'law',\n",
       " \"''\",\n",
       " 'an',\n",
       " 'extremely',\n",
       " 'broad',\n",
       " 'statute',\n",
       " '.',\n",
       " \"''\",\n",
       " '``',\n",
       " 'I',\n",
       " \"'m\",\n",
       " 'not',\n",
       " 'sure',\n",
       " 'it',\n",
       " 'would',\n",
       " \"n't\",\n",
       " 'include',\n",
       " 'Playboy',\n",
       " 'or',\n",
       " 'Penthouse',\n",
       " 'type',\n",
       " 'publications',\n",
       " ',',\n",
       " \"''\",\n",
       " 'he',\n",
       " 'said',\n",
       " '.',\n",
       " 'Legal',\n",
       " 'experts',\n",
       " 'say',\n",
       " 'Oklahoma',\n",
       " \"'s\",\n",
       " 'law',\n",
       " 'appears',\n",
       " 'aimed',\n",
       " 'against',\n",
       " 'sale',\n",
       " 'or',\n",
       " 'distribution',\n",
       " 'of',\n",
       " 'pornographic',\n",
       " 'material',\n",
       " '.',\n",
       " 'That',\n",
       " 'leaves',\n",
       " 'some',\n",
       " 'to',\n",
       " 'wonder',\n",
       " 'whether',\n",
       " 'passing',\n",
       " 'a',\n",
       " 'free',\n",
       " 'copy',\n",
       " 'to',\n",
       " 'a',\n",
       " 'friend',\n",
       " 'constitutes',\n",
       " 'distribution',\n",
       " '.',\n",
       " 'Part',\n",
       " 'of',\n",
       " 'the',\n",
       " 'law',\n",
       " 'also',\n",
       " 'appears',\n",
       " 'to',\n",
       " 'make',\n",
       " 'possession',\n",
       " 'a',\n",
       " 'crime',\n",
       " ',',\n",
       " 'but',\n",
       " 'U.S.',\n",
       " 'Supreme',\n",
       " 'Court',\n",
       " 'rulings',\n",
       " 'have',\n",
       " 'backed',\n",
       " 'an',\n",
       " 'individual',\n",
       " \"'s\",\n",
       " 'right',\n",
       " 'to',\n",
       " 'own',\n",
       " 'such',\n",
       " 'material',\n",
       " ',',\n",
       " 'Holmes',\n",
       " 'said',\n",
       " '.',\n",
       " 'Also',\n",
       " ',',\n",
       " 'free',\n",
       " 'speech',\n",
       " 'guarantees',\n",
       " 'likely',\n",
       " 'would',\n",
       " 'protect',\n",
       " 'those',\n",
       " 'who',\n",
       " 'use',\n",
       " 'words',\n",
       " 'to',\n",
       " 'describe',\n",
       " 'pornographic',\n",
       " 'acts',\n",
       " ',',\n",
       " 'he',\n",
       " 'said',\n",
       " '.',\n",
       " 'Explicit',\n",
       " 'materials',\n",
       " 'depicting',\n",
       " 'children',\n",
       " 'are',\n",
       " 'covered',\n",
       " 'under',\n",
       " 'much',\n",
       " 'stricter',\n",
       " 'laws',\n",
       " ',',\n",
       " 'but',\n",
       " 'Davis',\n",
       " \"'\",\n",
       " 'CDs',\n",
       " 'contained',\n",
       " 'no',\n",
       " 'such',\n",
       " 'material',\n",
       " '.',\n",
       " 'Apart',\n",
       " 'from',\n",
       " 'the',\n",
       " 'pornography',\n",
       " 'question',\n",
       " 'is',\n",
       " 'the',\n",
       " 'issue',\n",
       " 'of',\n",
       " 'electronic',\n",
       " 'mail',\n",
       " 'seized',\n",
       " 'with',\n",
       " 'Davis',\n",
       " \"'\",\n",
       " 'computer',\n",
       " 'equipment',\n",
       " ',',\n",
       " 'correspondence',\n",
       " 'most',\n",
       " 'legal',\n",
       " 'experts',\n",
       " 'say',\n",
       " 'is',\n",
       " 'protected',\n",
       " 'by',\n",
       " 'federal',\n",
       " 'law',\n",
       " '.',\n",
       " 'Davis',\n",
       " \"'\",\n",
       " 'computer',\n",
       " 'was',\n",
       " 'part',\n",
       " 'of',\n",
       " 'a',\n",
       " 'large',\n",
       " 'electronic',\n",
       " 'mail',\n",
       " 'system',\n",
       " 'that',\n",
       " 'shuttled',\n",
       " 'messages',\n",
       " 'across',\n",
       " 'the',\n",
       " 'country',\n",
       " '.',\n",
       " 'Critics',\n",
       " 'of',\n",
       " 'the',\n",
       " 'bust',\n",
       " 'say',\n",
       " 'likely',\n",
       " 'lawsuits',\n",
       " 'over',\n",
       " 'the',\n",
       " 'mail',\n",
       " 'might',\n",
       " 'show',\n",
       " 'the',\n",
       " 'government',\n",
       " '``',\n",
       " 'has',\n",
       " 'bitten',\n",
       " 'off',\n",
       " 'more',\n",
       " 'than',\n",
       " 'it',\n",
       " 'can',\n",
       " 'chew',\n",
       " '.',\n",
       " \"''\",\n",
       " 'They',\n",
       " 'point',\n",
       " 'to',\n",
       " 'a',\n",
       " 'case',\n",
       " 'in',\n",
       " 'Austin',\n",
       " 'where',\n",
       " 'the',\n",
       " 'owner',\n",
       " 'of',\n",
       " 'a',\n",
       " 'computer',\n",
       " 'won',\n",
       " 'a',\n",
       " '$',\n",
       " '50,000',\n",
       " 'damage',\n",
       " 'award',\n",
       " 'over',\n",
       " 'E-mail',\n",
       " 'seized',\n",
       " 'by',\n",
       " 'the',\n",
       " 'Secret',\n",
       " 'Service',\n",
       " '.',\n",
       " 'The',\n",
       " 'government',\n",
       " 'also',\n",
       " 'was',\n",
       " 'liable',\n",
       " 'for',\n",
       " '$',\n",
       " '1,000',\n",
       " 'for',\n",
       " 'each',\n",
       " 'user',\n",
       " 'of',\n",
       " 'the',\n",
       " 'E-mail',\n",
       " '.',\n",
       " 'In',\n",
       " 'Davis',\n",
       " \"'\",\n",
       " 'case',\n",
       " ',',\n",
       " 'that',\n",
       " 'could',\n",
       " 'be',\n",
       " 'up',\n",
       " 'to',\n",
       " '2,000',\n",
       " 'clients',\n",
       " ',',\n",
       " 'or',\n",
       " '$',\n",
       " '2',\n",
       " 'million',\n",
       " '.',\n",
       " '``',\n",
       " 'The',\n",
       " 'city',\n",
       " 'of',\n",
       " 'Oklahoma',\n",
       " 'City',\n",
       " 'could',\n",
       " 'be',\n",
       " 'on',\n",
       " 'the',\n",
       " 'hook',\n",
       " 'for',\n",
       " 'that',\n",
       " ',',\n",
       " \"''\",\n",
       " 'Rickard',\n",
       " 'said',\n",
       " '.',\n",
       " 'Critics',\n",
       " 'also',\n",
       " 'say',\n",
       " 'police',\n",
       " 'over',\n",
       " 'reached',\n",
       " 'in',\n",
       " 'grabbing',\n",
       " 'Davis',\n",
       " \"'\",\n",
       " 'entire',\n",
       " 'system',\n",
       " ',',\n",
       " 'shutting',\n",
       " 'down',\n",
       " 'his',\n",
       " 'pay-for-play',\n",
       " 'computer',\n",
       " 'service',\n",
       " ',',\n",
       " 'because',\n",
       " 'of',\n",
       " 'four',\n",
       " 'CDs',\n",
       " '.',\n",
       " 'Prosecutors',\n",
       " 'are',\n",
       " 'seeking',\n",
       " 'forfeiture',\n",
       " 'of',\n",
       " 'the',\n",
       " 'system',\n",
       " ',',\n",
       " 'which',\n",
       " 'includes',\n",
       " 'a',\n",
       " '13',\n",
       " 'gigabyte',\n",
       " 'memory',\n",
       " 'unit',\n",
       " 'and',\n",
       " '10',\n",
       " 'high',\n",
       " 'speed',\n",
       " 'modems',\n",
       " '.',\n",
       " '``',\n",
       " 'They',\n",
       " 'do',\n",
       " \"n't\",\n",
       " 'have',\n",
       " 'to',\n",
       " 'seize',\n",
       " 'it',\n",
       " 'any',\n",
       " 'more',\n",
       " 'than',\n",
       " 'they',\n",
       " 'have',\n",
       " 'to',\n",
       " 'seize',\n",
       " 'the',\n",
       " 'building',\n",
       " 'when',\n",
       " 'they',\n",
       " 'confiscate',\n",
       " 'a',\n",
       " 'bookstore',\n",
       " ',',\n",
       " \"''\",\n",
       " 'said',\n",
       " 'Godwin',\n",
       " 'of',\n",
       " 'the',\n",
       " 'Electronic',\n",
       " 'Frontier',\n",
       " 'Foundation',\n",
       " '.',\n",
       " '\\x1a']"
      ]
     },
     "execution_count": 4,
     "metadata": {},
     "output_type": "execute_result"
    }
   ],
   "source": [
    "text.tokens"
   ]
  },
  {
   "cell_type": "markdown",
   "metadata": {},
   "source": [
    "### Most 50 words frequency distribution"
   ]
  },
  {
   "cell_type": "code",
   "execution_count": 5,
   "metadata": {
    "collapsed": true
   },
   "outputs": [],
   "source": [
    "def plot_freq_dist(fdist, limit=50, pltsize=(15, 10)):\n",
    "    df = pd.DataFrame(fdist.most_common(limit), columns=['word', 'freq'])\n",
    "    plt.figure(figsize=pltsize)\n",
    "    bp = sns.barplot(x=df.word, y=df.freq)\n",
    "    bp.set_xticklabels(bp.get_xticklabels(), rotation=90)\n",
    "    plt.show()"
   ]
  },
  {
   "cell_type": "code",
   "execution_count": 6,
   "metadata": {},
   "outputs": [
    {
     "data": {
      "image/png": "[encoded data removed]",
      "text/plain": [
       "<matplotlib.figure.Figure at 0x22830f18c88>"
      ]
     },
     "metadata": {},
     "output_type": "display_data"
    }
   ],
   "source": [
    "#fdist = nltk.FreqDist(w.lower() for w in text)\n",
    "plot_freq_dist(nltk.FreqDist(w.lower() for w in text))"
   ]
  },
  {
   "cell_type": "markdown",
   "metadata": {},
   "source": [
    "## Normilising text\n",
    "\n",
    "### Apply `nltk.PorterStemmer()`"
   ]
  },
  {
   "cell_type": "code",
   "execution_count": 7,
   "metadata": {
    "scrolled": true
   },
   "outputs": [
    {
     "data": {
      "image/png": "[encoded data removed]",
      "text/plain": [
       "<matplotlib.figure.Figure at 0x22831400d68>"
      ]
     },
     "metadata": {},
     "output_type": "display_data"
    }
   ],
   "source": [
    "porter_stemmer = nltk.PorterStemmer()\n",
    "plot_freq_dist(nltk.FreqDist(porter_stemmer.stem(w).lower() for w in text))"
   ]
  },
  {
   "cell_type": "code",
   "execution_count": 8,
   "metadata": {},
   "outputs": [
    {
     "data": {
      "text/plain": [
       "'go'"
      ]
     },
     "execution_count": 8,
     "metadata": {},
     "output_type": "execute_result"
    }
   ],
   "source": [
    "porter_stemmer.stem('going')"
   ]
  },
  {
   "cell_type": "markdown",
   "metadata": {},
   "source": [
    "### Apply `nltk.LancasterStemmer`"
   ]
  },
  {
   "cell_type": "code",
   "execution_count": 9,
   "metadata": {
    "scrolled": true
   },
   "outputs": [
    {
     "data": {
      "image/png": "[encoded data removed]",
      "text/plain": [
       "<matplotlib.figure.Figure at 0x228315bf3c8>"
      ]
     },
     "metadata": {},
     "output_type": "display_data"
    }
   ],
   "source": [
    "lancaster = nltk.LancasterStemmer()\n",
    "plot_freq_dist(nltk.FreqDist(lancaster.stem(w).lower() for w in text))"
   ]
  },
  {
   "cell_type": "code",
   "execution_count": 10,
   "metadata": {},
   "outputs": [
    {
     "data": {
      "text/plain": [
       "'goe'"
      ]
     },
     "execution_count": 10,
     "metadata": {},
     "output_type": "execute_result"
    }
   ],
   "source": [
    "lancaster.stem('goes')"
   ]
  },
  {
   "cell_type": "markdown",
   "metadata": {
    "collapsed": true
   },
   "source": [
    "### Apply `nltk.WordNetLemmitizer()`"
   ]
  },
  {
   "cell_type": "code",
   "execution_count": 11,
   "metadata": {
    "scrolled": true
   },
   "outputs": [
    {
     "data": {
      "image/png": "[encoded data removed]",
      "text/plain": [
       "<matplotlib.figure.Figure at 0x22835a7bc18>"
      ]
     },
     "metadata": {},
     "output_type": "display_data"
    }
   ],
   "source": [
    "wnl = nltk.WordNetLemmatizer()\n",
    "plot_freq_dist(nltk.FreqDist(wnl.lemmatize(w).lower() for w in text))"
   ]
  },
  {
   "cell_type": "code",
   "execution_count": 12,
   "metadata": {},
   "outputs": [
    {
     "data": {
      "text/plain": [
       "'computer'"
      ]
     },
     "execution_count": 12,
     "metadata": {},
     "output_type": "execute_result"
    }
   ],
   "source": [
    "wnl.lemmatize('computers')"
   ]
  },
  {
   "cell_type": "markdown",
   "metadata": {},
   "source": [
    "## Tokenizing text\n",
    "\n",
    "### Moses tokeniser"
   ]
  },
  {
   "cell_type": "code",
   "execution_count": 13,
   "metadata": {},
   "outputs": [
    {
     "data": {
      "text/plain": [
       "['From', 'The', 'Dialy', 'Oklahoman', 'Newspaper']"
      ]
     },
     "execution_count": 13,
     "metadata": {},
     "output_type": "execute_result"
    }
   ],
   "source": [
    "from nltk.tokenize.moses import MosesTokenizer\n",
    "\n",
    "tokeniser = MosesTokenizer()\n",
    "f = open(EXM_FILE, 'r')\n",
    "m_text = tokeniser.tokenize(f.read())\n",
    "f.close()\n",
    "m_text[:5]"
   ]
  },
  {
   "cell_type": "code",
   "execution_count": 14,
   "metadata": {},
   "outputs": [
    {
     "data": {
      "text/plain": [
       "['a little bit']"
      ]
     },
     "execution_count": 14,
     "metadata": {},
     "output_type": "execute_result"
    }
   ],
   "source": [
    "# Retokenise string merging multi-word expressions into single tokens\n",
    "from nltk.tokenize import MWETokenizer\n",
    "tokeniser = MWETokenizer([('a', 'little', 'bit')], separator=' ')\n",
    "tokeniser.tokenize(['a', 'little', 'bit'])"
   ]
  },
  {
   "cell_type": "markdown",
   "metadata": {},
   "source": [
    "### Train `nltk.tokenize.punkt` to properly tokenise sencences\n",
    "\n",
    "[`nltk` docs](http://www.nltk.org/api/nltk.tokenize.html#module-nltk.tokenize.punkt)"
   ]
  },
  {
   "cell_type": "markdown",
   "metadata": {},
   "source": [
    "### `nltk.tokenize.texttiling module`\n",
    "\n",
    "Tokenize a document into topical sections using the TextTiling algorithm. This algorithm detects subtopic shifts based on the analysis of lexical co-occurrence patterns.\n",
    "\n",
    "[Docs](http://www.nltk.org/api/nltk.tokenize.html#module-nltk.tokenize.texttiling)"
   ]
  },
  {
   "cell_type": "code",
   "execution_count": 16,
   "metadata": {},
   "outputs": [],
   "source": [
    "import textprocessor\n",
    "\n",
    "tp = textprocessor.TextProcessor.from_file('data/news.txt')"
   ]
  },
  {
   "cell_type": "code",
   "execution_count": 17,
   "metadata": {
    "collapsed": true
   },
   "outputs": [],
   "source": [
    "words = tp.get_filtered_words(nostopwords=True, nopunct=True, stemm=False, lemmatize=True)"
   ]
  },
  {
   "cell_type": "code",
   "execution_count": 18,
   "metadata": {
    "collapsed": true
   },
   "outputs": [],
   "source": [
    "most_common_words = [w[0] for w in tp.most_common_words(words=words, n=10)]"
   ]
  },
  {
   "cell_type": "code",
   "execution_count": 19,
   "metadata": {},
   "outputs": [
    {
     "data": {
      "text/plain": [
       "['davis',\n",
       " 'computer',\n",
       " 'system',\n",
       " 'city',\n",
       " 'case',\n",
       " 'board',\n",
       " 'law',\n",
       " 'mail',\n",
       " 'attorney',\n",
       " 'community',\n",
       " 'material']"
      ]
     },
     "execution_count": 19,
     "metadata": {},
     "output_type": "execute_result"
    }
   ],
   "source": [
    "nouns = [w[0] for s in tp.tagged_sentences for w in s if w[1] == 'NN']\n",
    "min_freq = min([w[1] for w in tp.most_common_words(words=nouns, n=10)])\n",
    "all_nouns = tp.most_common_words(words=nouns)\n",
    "most_common_nouns = [w[0] for w in all_nouns if w[1] >= min_freq]\n",
    "most_common_nouns"
   ]
  },
  {
   "cell_type": "code",
   "execution_count": 20,
   "metadata": {},
   "outputs": [
    {
     "data": {
      "text/plain": [
       "['davis',\n",
       " 'computer',\n",
       " 'said',\n",
       " 'system',\n",
       " 'oklahoma',\n",
       " 'city',\n",
       " 'material',\n",
       " 'law',\n",
       " 'bulletin',\n",
       " 'board']"
      ]
     },
     "execution_count": 20,
     "metadata": {},
     "output_type": "execute_result"
    }
   ],
   "source": [
    "most_common_words"
   ]
  },
  {
   "cell_type": "code",
   "execution_count": 21,
   "metadata": {
    "collapsed": true
   },
   "outputs": [],
   "source": [
    "chunks = tp.get_np_chunks()"
   ]
  },
  {
   "cell_type": "code",
   "execution_count": 22,
   "metadata": {
    "collapsed": true
   },
   "outputs": [],
   "source": [
    "def get_np_trees(tree):\n",
    "    return list(tree.subtrees(filter=lambda t: t.label() == 'NP'))"
   ]
  },
  {
   "cell_type": "code",
   "execution_count": 23,
   "metadata": {
    "collapsed": true,
    "scrolled": true
   },
   "outputs": [],
   "source": [
    "np_trees = []\n",
    "for ch in chunks:\n",
    "    np_trees.extend(get_np_trees(ch))"
   ]
  },
  {
   "cell_type": "code",
   "execution_count": 24,
   "metadata": {
    "collapsed": true
   },
   "outputs": [],
   "source": [
    "import string\n",
    "excl_tags = ['POS', 'DT']\n",
    "def get_phrases(trees):\n",
    "    phs = set()\n",
    "    for t in trees:\n",
    "        leaves = [l[0] for l in t.leaves() if not any([c in string.punctuation for c in l[1]]) and l[1] not in excl_tags]\n",
    "        phs.add(' '.join(leaves))\n",
    "    return phs"
   ]
  },
  {
   "cell_type": "code",
   "execution_count": 25,
   "metadata": {
    "collapsed": true
   },
   "outputs": [],
   "source": [
    "ph_trees = [t for t in np_trees if any([l[0] in most_common_nouns for l in t.leaves()])]"
   ]
  },
  {
   "cell_type": "code",
   "execution_count": 26,
   "metadata": {
    "scrolled": true
   },
   "outputs": [
    {
     "data": {
      "text/plain": [
       "{'allegedly illegal material',\n",
       " 'attorney',\n",
       " 'attorney holmes',\n",
       " 'board service',\n",
       " 'bulletin board newsletter',\n",
       " 'bulletin board system operators',\n",
       " 'case',\n",
       " 'city',\n",
       " 'clown city',\n",
       " 'community',\n",
       " 'community standards',\n",
       " 'computer',\n",
       " 'computer bulletin board system',\n",
       " 'computer circles',\n",
       " 'computer porn case',\n",
       " 'computer system',\n",
       " 'davis',\n",
       " 'davis attorney',\n",
       " 'davis bust',\n",
       " 'davis case',\n",
       " 'davis cds',\n",
       " 'davis computer',\n",
       " 'davis computer equipment',\n",
       " 'davis software publishing firm',\n",
       " 'davis system',\n",
       " 'district attorney',\n",
       " 'district attorney bob macy',\n",
       " 'electronic mail',\n",
       " 'electronic mail inside',\n",
       " 'entire system',\n",
       " 'explicit material davis',\n",
       " 'federal law',\n",
       " 'large electronic mail system',\n",
       " 'law',\n",
       " 'law enforcement',\n",
       " 'mail',\n",
       " 'national computer community',\n",
       " 'nearly computer magazine',\n",
       " 'oklahoma city',\n",
       " 'oklahoma city police',\n",
       " 'pay-for-play computer service',\n",
       " 'pornographic material',\n",
       " 'pornography law',\n",
       " 'private mail',\n",
       " 'real community',\n",
       " 'sophisticated commercial computer bulletin board system',\n",
       " 'such material',\n",
       " 'system'}"
      ]
     },
     "execution_count": 26,
     "metadata": {},
     "output_type": "execute_result"
    }
   ],
   "source": [
    "phrases = get_phrases(ph_trees)\n",
    "phrases"
   ]
  },
  {
   "cell_type": "code",
   "execution_count": 27,
   "metadata": {
    "scrolled": true
   },
   "outputs": [
    {
     "data": {
      "text/plain": [
       "[('computer bulletin board system', 3),\n",
       " ('sophisticated commercial computer bulletin board system', 3),\n",
       " ('explicit material davis', 2),\n",
       " ('davis case', 2),\n",
       " ('davis system', 2),\n",
       " ('davis attorney', 2),\n",
       " ('davis computer', 2),\n",
       " ('davis computer equipment', 2),\n",
       " ('computer system', 2),\n",
       " ('pornographic computerized materials', 2),\n",
       " ('national computer community', 2),\n",
       " ('computer porn case', 2),\n",
       " ('bulletin board system operators', 2),\n",
       " ('large electronic mail system', 2),\n",
       " ('davis cds', 1),\n",
       " ('davis software publishing firm', 1),\n",
       " ('davis', 1),\n",
       " ('davis bust', 1),\n",
       " ('nearly computer magazine', 1),\n",
       " ('pay-for-play computer service', 1)]"
      ]
     },
     "execution_count": 27,
     "metadata": {},
     "output_type": "execute_result"
    }
   ],
   "source": [
    "from collections import Counter\n",
    "all_phrases = get_phrases(np_trees)\n",
    "result = Counter()\n",
    "for n in most_common_nouns:\n",
    "    for p in all_phrases:\n",
    "        if n in p:\n",
    "            result[p] += 1\n",
    "list(result.most_common(20))"
   ]
  },
  {
   "cell_type": "code",
   "execution_count": 28,
   "metadata": {},
   "outputs": [
    {
     "data": {
      "text/plain": [
       "[('computer bulletin board system', 3),\n",
       " ('sophisticated commercial computer bulletin board system', 3),\n",
       " ('explicit material davis', 2),\n",
       " ('davis case', 2),\n",
       " ('davis system', 2),\n",
       " ('davis attorney', 2),\n",
       " ('davis computer', 2),\n",
       " ('davis computer equipment', 2),\n",
       " ('computer system', 2),\n",
       " ('pornographic computerized materials', 2),\n",
       " ('national computer community', 2),\n",
       " ('computer porn case', 2),\n",
       " ('bulletin board system operators', 2),\n",
       " ('large electronic mail system', 2),\n",
       " ('davis cds', 1),\n",
       " ('davis software publishing firm', 1),\n",
       " ('davis', 1),\n",
       " ('davis bust', 1),\n",
       " ('nearly computer magazine', 1),\n",
       " ('pay-for-play computer service', 1)]"
      ]
     },
     "execution_count": 28,
     "metadata": {},
     "output_type": "execute_result"
    }
   ],
   "source": [
    "tp.get_most_common_phrases(noun_tags=['NN', 'NNS'], n=20)"
   ]
  },
  {
   "cell_type": "markdown",
   "metadata": {},
   "source": [
    "- get common words friquencies combined\n",
    "- stemm & lematize words before frequency calculation\n",
    "- get all np chunks that contain part of the words (for stemmed & lemmatised frequencies)"
   ]
  },
  {
   "cell_type": "markdown",
   "metadata": {},
   "source": [
    "### Compare words frequencies before and after stemmers and lemmatizers"
   ]
  },
  {
   "cell_type": "code",
   "execution_count": 29,
   "metadata": {},
   "outputs": [
    {
     "data": {
      "text/plain": [
       "[('davis', 16),\n",
       " ('said', 13),\n",
       " ('computer', 11),\n",
       " ('system', 9),\n",
       " ('oklahoma', 7),\n",
       " ('city', 7),\n",
       " ('bulletin', 6),\n",
       " ('case', 5),\n",
       " ('board', 5),\n",
       " ('law', 5)]"
      ]
     },
     "execution_count": 29,
     "metadata": {},
     "output_type": "execute_result"
    }
   ],
   "source": [
    "# no words adjustment\n",
    "words = tp.get_filtered_words(nostopwords=True, nopunct=True)\n",
    "mfw_noadj = tp.most_common_words(words=words, n=10)\n",
    "mfw_noadj"
   ]
  },
  {
   "cell_type": "code",
   "execution_count": 30,
   "metadata": {},
   "outputs": [
    {
     "data": {
      "text/plain": [
       "[('davis', 16),\n",
       " ('computer', 13),\n",
       " ('said', 13),\n",
       " ('system', 9),\n",
       " ('oklahoma', 7),\n",
       " ('city', 7),\n",
       " ('material', 7),\n",
       " ('law', 7),\n",
       " ('bulletin', 6),\n",
       " ('board', 6)]"
      ]
     },
     "execution_count": 30,
     "metadata": {},
     "output_type": "execute_result"
    }
   ],
   "source": [
    "# lemmitizer applied\n",
    "words_l = tp.get_filtered_words(lemmatize=True, nopunct=True, nostopwords=True)\n",
    "mfw_l = tp.most_common_words(words=words_l, n=10)\n",
    "mfw_l"
   ]
  },
  {
   "cell_type": "code",
   "execution_count": 31,
   "metadata": {},
   "outputs": [
    {
     "data": {
      "text/plain": [
       "[('davi', 16),\n",
       " ('comput', 13),\n",
       " ('said', 13),\n",
       " ('system', 9),\n",
       " ('oklahoma', 7),\n",
       " ('citi', 7),\n",
       " ('materi', 7),\n",
       " ('law', 7),\n",
       " ('bulletin', 6),\n",
       " ('board', 6)]"
      ]
     },
     "execution_count": 31,
     "metadata": {},
     "output_type": "execute_result"
    }
   ],
   "source": [
    "# stemmer applied\n",
    "words_s = tp.get_filtered_words(stemm=True, nopunct=True, nostopwords=True)\n",
    "mfw_s = tp.most_common_words(words=words_s, n=10)\n",
    "mfw_s"
   ]
  },
  {
   "cell_type": "code",
   "execution_count": 32,
   "metadata": {
    "scrolled": true
   },
   "outputs": [
    {
     "data": {
      "text/plain": [
       "[('davi', 16),\n",
       " ('comput', 13),\n",
       " ('said', 13),\n",
       " ('system', 9),\n",
       " ('oklahoma', 7),\n",
       " ('citi', 7),\n",
       " ('materi', 7),\n",
       " ('law', 7),\n",
       " ('bulletin', 6),\n",
       " ('board', 6)]"
      ]
     },
     "execution_count": 32,
     "metadata": {},
     "output_type": "execute_result"
    }
   ],
   "source": [
    "# both stemmer & lemmatizer applied\n",
    "words_sl = tp.get_filtered_words(lemmatize=True, stemm=True, nopunct=True, nostopwords=True)\n",
    "mfw_sl = tp.most_common_words(words=words_sl, n=10)\n",
    "mfw_sl"
   ]
  },
  {
   "cell_type": "markdown",
   "metadata": {},
   "source": [
    "## Synonims analysis\n",
    "- get path similiarities for each word\n",
    "- figure out the threshold for synonims"
   ]
  },
  {
   "cell_type": "code",
   "execution_count": 33,
   "metadata": {
    "collapsed": true
   },
   "outputs": [],
   "source": [
    "from nltk.corpus import wordnet as wn"
   ]
  },
  {
   "cell_type": "code",
   "execution_count": 34,
   "metadata": {},
   "outputs": [
    {
     "data": {
      "text/plain": [
       "0.3333333333333333"
      ]
     },
     "execution_count": 34,
     "metadata": {},
     "output_type": "execute_result"
    }
   ],
   "source": [
    "wn.synset('pc.n.01').path_similarity(wn.synset('computer.n.01'))"
   ]
  },
  {
   "cell_type": "markdown",
   "metadata": {
    "collapsed": true
   },
   "source": [
    "## SVO splits"
   ]
  },
  {
   "cell_type": "code",
   "execution_count": null,
   "metadata": {
    "collapsed": true
   },
   "outputs": [],
   "source": []
  }
 ],
 "metadata": {
  "kernelspec": {
   "display_name": "Python 3",
   "language": "python",
   "name": "python3"
  },
  "language_info": {
   "codemirror_mode": {
    "name": "ipython",
    "version": 3
   },
   "file_extension": ".py",
   "mimetype": "text/x-python",
   "name": "python",
   "nbconvert_exporter": "python",
   "pygments_lexer": "ipython3",
   "version": "3.6.2"
  }
 },
 "nbformat": 4,
 "nbformat_minor": 2
}
