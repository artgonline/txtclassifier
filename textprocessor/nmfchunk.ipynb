{
 "cells": [
  {
   "cell_type": "code",
   "execution_count": 1,
   "metadata": {},
   "outputs": [],
   "source": [
    "import numpy as np\n",
    "from sklearn.feature_extraction.text import TfidfVectorizer, CountVectorizer\n",
    "from sklearn.datasets import fetch_20newsgroups\n",
    "from sklearn.decomposition import NMF  # Data matrix A factored into W(weights)*H(features)\n",
    "# from sklearn.decomposition import LatentDirichletAllocation  # For NMF vs. LDA comparisons\n",
    "import nltk\n",
    "from textprocessor import TextProcessor"
   ]
  },
  {
   "cell_type": "code",
   "execution_count": 2,
   "metadata": {
    "collapsed": true
   },
   "outputs": [],
   "source": [
    "def printTopics(model, featureNames, numTopWords):\n",
    "    for i, topic in enumerate(model.components_):  # Enumerate through features (term-to-topic) matrix H\n",
    "        print(\"Topic %d:\" % i)\n",
    "        print(\", \".join([featureNames[j] for j in topic.argsort()[:-numTopWords-1:-1]])) # Top few words related to each topic"
   ]
  },
  {
   "cell_type": "code",
   "execution_count": 3,
   "metadata": {},
   "outputs": [
    {
     "data": {
      "text/plain": [
       "58"
      ]
     },
     "execution_count": 3,
     "metadata": {},
     "output_type": "execute_result"
    }
   ],
   "source": [
    "tp = TextProcessor.from_file(f_path='data/news.txt')\n",
    "documents = [p[0] for p in tp.get_most_common_phrases(n=100)]\n",
    "len(documents)"
   ]
  },
  {
   "cell_type": "code",
   "execution_count": 4,
   "metadata": {
    "collapsed": true
   },
   "outputs": [],
   "source": [
    "numFeatures = 10000  # Number of unique terms (columns) in term-document matrix\n",
    "\n",
    "# Use tf-idf to process documents for NMF\n",
    "tfidfVectorizer = TfidfVectorizer(vocabulary=None, max_df=0.95, min_df=1, max_features=numFeatures, stop_words='english')\n",
    "tfidf = tfidfVectorizer.fit_transform(documents)\n",
    "tfidfFeatureNames = tfidfVectorizer.get_feature_names()"
   ]
  },
  {
   "cell_type": "code",
   "execution_count": 5,
   "metadata": {},
   "outputs": [
    {
     "name": "stdout",
     "output_type": "stream",
     "text": [
      "Topic 0:\n",
      "davis, bust, cds, equipment, explicit, software, firm, publishing, attorney, stricter\n",
      "Topic 1:\n",
      "computer, circles, equipment, nearly, magazine, national, porn, pay, play, sophisticated\n",
      "Topic 2:\n",
      "mail, electronic, private, inside, large, community, federal, explicit, equipment, entire\n",
      "Topic 3:\n",
      "attorney, district, holmes, bob, macy, computer, firm, federal, explicit, equipment\n",
      "Topic 4:\n",
      "city, oklahoma, police, clown, laws, district, computerized, computers, davis, electronic\n",
      "Topic 5:\n",
      "board, bulletin, newsletter, operators, service, commercial, sophisticated, numerous, boards, entire\n",
      "Topic 6:\n",
      "law, federal, pornography, enforcement, stricter, community, firm, explicit, equipment, entire\n",
      "Topic 7:\n",
      "material, pornographic, explicit, allegedly, illegal, materials, computerized, computers, firm, federal\n",
      "Topic 8:\n",
      "community, standards, real, national, firm, federal, explicit, equipment, entire, enforcement\n",
      "Topic 9:\n",
      "case, porn, stricter, community, firm, federal, explicit, equipment, entire, enforcement\n"
     ]
    }
   ],
   "source": [
    "# User input for number of topics or clusters (usually k in the literature)\n",
    "numTopics = 10\n",
    "\n",
    "# Run NMF\n",
    "nmf = NMF(n_components=numTopics, random_state=1, alpha=.1, l1_ratio=.5, init='nndsvd').fit(tfidf)\n",
    "\n",
    "# Run LDA\n",
    "#lda = LatentDirichletAllocation(n_topics=no_topics, max_iter=5, learning_method='online', learning_offset=50.,random_state=0).fit(tf)\n",
    "\n",
    "numTopWords = 10\n",
    "printTopics(nmf, tfidfFeatureNames, numTopWords)\n",
    "#printTopics(lda, tfFeatureNames, numTopWords)"
   ]
  },
  {
   "cell_type": "code",
   "execution_count": 6,
   "metadata": {},
   "outputs": [
    {
     "name": "stdout",
     "output_type": "stream",
     "text": [
      "{'davis': 1.6495354270273892, 'bust': 0.15878782074079922, 'cds': 0.15878782074079922, 'equipment': 0.099579730537515232, 'explicit': 0.26972844619731651, 'software': 0.039314604897338623, 'firm': 0.039314604897338623, 'publishing': 0.039314604897338623, 'attorney': 1.250157088002154, 'stricter': 0, 'computer': 1.5990254703323554, 'circles': 0.17367561134112047, 'nearly': 0.091285159014620282, 'magazine': 0.080254082003283878, 'national': 0.1993127122157245, 'porn': 0.25605458286249178, 'pay': 0.044177041286732478, 'play': 0.044177041286732478, 'sophisticated': 0.12836245631912671, 'mail': 1.3349099921562573, 'electronic': 0.55829267159979623, 'private': 0.16632083394779326, 'inside': 0.16053287525614265, 'large': 0.16053287525614265, 'community': 1.1783483551280112, 'federal': 0.26973990307082224, 'entire': 0, 'district': 0.4209534055941701, 'holmes': 0.22819280356730276, 'bob': 0.12840283006481107, 'macy': 0.12840283006481107, 'city': 1.0853893231940561, 'oklahoma': 0.64360829496321326, 'police': 0.227116610587903, 'clown': 0.20850605997871316, 'laws': 0.10520001224571297, 'computerized': 0.021125555463359796, 'computers': 0, 'board': 0.89244352701497887, 'bulletin': 0.80573556592289997, 'newsletter': 0.23262236152009089, 'operators': 0.23262236152009089, 'service': 0.17033604464852606, 'commercial': 0.12836245631912671, 'numerous': 0.068617692069312647, 'boards': 0.068617692069312647, 'law': 1.1839566551913427, 'pornography': 0.26973990307082224, 'enforcement': 0.26973990307082224, 'material': 1.1396013509488241, 'pornographic': 0.35323234553409566, 'allegedly': 0.16646927730005723, 'illegal': 0.16646927730005723, 'materials': 0.080577307488898575, 'standards': 0.28533265349073805, 'real': 0.28533265349073794, 'case': 1.2129992601460198}\n"
     ]
    }
   ],
   "source": [
    "numTopWords = 10\n",
    "wrds = {}\n",
    "for i, topic in enumerate(nmf.components_):  # Enumerate through features (term-to-topic) matrix H\n",
    "    for j in topic.argsort()[:-numTopWords-1:-1]:\n",
    "        wrd = tfidfFeatureNames[j]\n",
    "        w = wrds.get(wrd, 0)\n",
    "        wrds[wrd] = max(w, nmf.components_[i][j])\n",
    "    # wrds.update(set([tfidfFeatureNames[j] for j in topic.argsort()[:-numTopWords-1:-1]]))\n",
    "print(wrds)"
   ]
  },
  {
   "cell_type": "code",
   "execution_count": 16,
   "metadata": {
    "scrolled": false
   },
   "outputs": [
    {
     "name": "stdout",
     "output_type": "stream",
     "text": [
      "explicit material davis\n",
      "davis computer\n",
      "davis computer equipment\n",
      "davis case\n",
      "davis attorney\n",
      "computer porn case\n",
      "pornographic computerized materials\n",
      "national computer community\n",
      "computer bulletin board system\n",
      "sophisticated commercial computer bulletin board system\n"
     ]
    }
   ],
   "source": [
    "import operator\n",
    "output = sorted(wrds.items(), key=operator.itemgetter(1), reverse=True)\n",
    "for p in tp.get_most_common_phrases(filter_words=[w[0] for w in output[:10]]):\n",
    "    print(p[0])"
   ]
  },
  {
   "cell_type": "code",
   "execution_count": 8,
   "metadata": {},
   "outputs": [
    {
     "data": {
      "text/plain": [
       "[('computer bulletin board system', 3),\n",
       " ('sophisticated commercial computer bulletin board system', 3),\n",
       " ('explicit material davis', 2),\n",
       " ('davis computer', 2),\n",
       " ('davis computer equipment', 2),\n",
       " ('davis case', 2),\n",
       " ('davis attorney', 2),\n",
       " ('davis system', 2),\n",
       " ('computer porn case', 2),\n",
       " ('computer system', 2)]"
      ]
     },
     "execution_count": 8,
     "metadata": {},
     "output_type": "execute_result"
    }
   ],
   "source": [
    "tp.get_most_common_phrases()"
   ]
  },
  {
   "cell_type": "code",
   "execution_count": null,
   "metadata": {
    "collapsed": true
   },
   "outputs": [],
   "source": []
  }
 ],
 "metadata": {
  "kernelspec": {
   "display_name": "Python 3",
   "language": "python",
   "name": "python3"
  },
  "language_info": {
   "codemirror_mode": {
    "name": "ipython",
    "version": 3
   },
   "file_extension": ".py",
   "mimetype": "text/x-python",
   "name": "python",
   "nbconvert_exporter": "python",
   "pygments_lexer": "ipython3",
   "version": "3.6.2"
  }
 },
 "nbformat": 4,
 "nbformat_minor": 2
}
