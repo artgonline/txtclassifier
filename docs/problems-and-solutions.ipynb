{
 "cells": [
  {
   "cell_type": "markdown",
   "metadata": {},
   "source": [
    "# Problems"
   ]
  },
  {
   "cell_type": "markdown",
   "metadata": {},
   "source": [
    "## Get training data (text) sets\n",
    "\n",
    "They must be of a different categories, tokenised and tagged at least\n",
    "\n",
    "### Solution Proposal\n",
    "\n",
    "We can start using nltk large corpora data and lookup for more in the meantime\n"
   ]
  },
  {
   "cell_type": "markdown",
   "metadata": {},
   "source": [
    "## Get a proper set of words"
   ]
  },
  {
   "cell_type": "markdown",
   "metadata": {},
   "source": [
    "- Proper tokenization\n",
    "- Words frequency distribution\n",
    "- Filtering\n",
    "    - meaningless words\n",
    "    - rare words\n",
    "    - etc?\n",
    "- ignore endings, prefixes, etc..\n"
   ]
  },
  {
   "cell_type": "markdown",
   "metadata": {},
   "source": [
    "## Create proper tagger\n",
    "\n",
    "- Need to create proper model and train it to tag words correctly\n",
    "- Need to assess tagging strategy and combine tagging techniques and different taggers\n",
    "- Need to come up with tagger maintanence and improvement strategy"
   ]
  },
  {
   "cell_type": "markdown",
   "metadata": {},
   "source": [
    "## Normilise Set"
   ]
  },
  {
   "cell_type": "markdown",
   "metadata": {},
   "source": [
    "- Apply weights\n",
    "    - (e.g. less frequent more weights but with margin)\n",
    "- Apply synonimns and re-weight\n",
    "- Re-weight words based on the surrounding context"
   ]
  },
  {
   "cell_type": "markdown",
   "metadata": {},
   "source": []
  }
 ],
 "metadata": {
  "kernelspec": {
   "display_name": "Python 3",
   "language": "python",
   "name": "python3"
  },
  "language_info": {
   "codemirror_mode": {
    "name": "ipython",
    "version": 3
   },
   "file_extension": ".py",
   "mimetype": "text/x-python",
   "name": "python",
   "nbconvert_exporter": "python",
   "pygments_lexer": "ipython3",
   "version": "3.6.2"
  }
 },
 "nbformat": 4,
 "nbformat_minor": 2
}
