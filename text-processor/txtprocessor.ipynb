{
 "cells": [
  {
   "cell_type": "markdown",
   "metadata": {},
   "source": [
    "# Text Processor\n",
    "\n",
    "## Goal\n",
    "\n",
    "Create a raw text processer, that would return proper tokinised and tagged text in the form of list of centences, which in turn are a list of words/tag, plus some method for quick text pre-analysis.\n",
    "\n",
    "## Purpose\n",
    "\n",
    "Current document is a research log and test of Text "
   ]
  }
 ],
 "metadata": {
  "kernelspec": {
   "display_name": "Python 3",
   "language": "python",
   "name": "python3"
  },
  "language_info": {
   "codemirror_mode": {
    "name": "ipython",
    "version": 3
   },
   "file_extension": ".py",
   "mimetype": "text/x-python",
   "name": "python",
   "nbconvert_exporter": "python",
   "pygments_lexer": "ipython3",
   "version": "3.6.2"
  }
 },
 "nbformat": 4,
 "nbformat_minor": 2
}
