{
 "cells": [
  {
   "cell_type": "code",
   "execution_count": 21,
   "metadata": {
    "scrolled": true
   },
   "outputs": [
    {
     "name": "stdout",
     "output_type": "stream",
     "text": [
      "computer bulletin board system\n",
      "sophisticated commercial computer bulletin board system\n",
      "davis attorney\n",
      "davis case\n",
      "explicit material davis\n",
      "davis computer equipment\n",
      "davis system\n",
      "davis computer\n",
      "pornographic computerized materials\n",
      "computer system\n",
      "national computer community\n",
      "computer porn case\n",
      "bulletin board system operators\n",
      "large electronic mail system\n",
      "davis software publishing firm\n",
      "davis bust\n",
      "davis cds\n",
      "davis\n",
      "nearly computer magazine\n",
      "computers\n"
     ]
    }
   ],
   "source": [
    "import textprocessor\n",
    "tp = textprocessor.TextProcessor.from_file('data/news.txt')\n",
    "phs = tp.get_most_common_phrases(noun_tags=['NN', 'NNS'], n=20)\n",
    "for p, _ in phs:\n",
    "    print(p)"
   ]
  },
  {
   "cell_type": "code",
   "execution_count": 24,
   "metadata": {},
   "outputs": [
    {
     "name": "stdout",
     "output_type": "stream",
     "text": [
      "EVALUTATION: ChunkParse score:\n",
      "    IOB Accuracy:  96.0%%\n",
      "    Precision:     88.8%%\n",
      "    Recall:        91.1%%\n",
      "    F-Measure:     89.9%%\n"
     ]
    }
   ],
   "source": [
    "p = tp.get_np_chunks(evaluate=True)"
   ]
  },
  {
   "cell_type": "code",
   "execution_count": 25,
   "metadata": {},
   "outputs": [
    {
     "data": {
      "text/plain": [
       "[Tree('S', [('from', 'IN'), Tree('NP', [('the', 'DT'), ('dialy', 'NN'), ('oklahoman', 'JJ'), ('newspaper', 'NN')]), (',', ','), ('september', 'VB'), Tree('NP', [('27', 'CD')]), (',', ','), Tree('NP', [('1993', 'CD')]), (',', ','), Tree('NP', [('page', 'NN'), ('1', 'CD')]), (':', ':'), Tree('NP', [('computer', 'NN'), ('porn', 'NN'), ('case', 'NN')]), ('triggers', 'VBZ'), Tree('NP', [('legal', 'JJ'), ('questions', 'NNS')]), ('by', 'IN'), Tree('NP', [('david', 'JJ'), ('zizzo', 'NN')]), (',', ','), Tree('NP', [('staff', 'NN'), ('writer', 'NN')]), ('is', 'VBZ'), ('talking', 'VBG'), ('to', 'TO'), ('anthony', 'VB'), ('davis', 'RB'), ('hazardous', 'JJ'), ('to', 'TO'), Tree('NP', [('your', 'PRP$'), ('health', 'NN')]), ('?', '.')]),\n",
       " Tree('S', [('in', 'IN'), Tree('NP', [('a', 'DT'), ('manner', 'NN')]), ('of', 'IN'), Tree('NP', [('speaking', 'NN')]), (',', ','), Tree('NP', [('that', 'DT')]), (\"'s\", 'VBZ'), Tree('NP', [('what', 'WP')]), Tree('NP', [('numerous', 'JJ'), ('people', 'NNS')]), ('with', 'IN'), Tree('NP', [('computers', 'NNS'), ('and', 'CC')]), Tree('NP', [('modems', 'NNS')]), ('apparently', 'RB'), ('have', 'VBP'), ('been', 'VBN'), ('worrying', 'VBG'), Tree('NP', [('about', 'RB')]), ('since', 'IN'), Tree('NP', [('late', 'JJ'), ('july', 'NN')]), ('.', '.')]),\n",
       " Tree('S', [Tree('NP', [('that', 'DT')]), (\"'s\", 'VBZ'), ('when', 'WRB'), Tree('NP', [('oklahoma', 'JJ'), ('city', 'NN'), ('police', 'NN')]), ('raided', 'VBD'), Tree('NP', [('davis', 'NN'), (\"'\", \"''\"), ('software', 'NN'), ('publishing', 'VBG'), ('firm', 'NN')]), ('and', 'CC'), ('confiscated', 'VBD'), Tree('NP', [('his', 'PRP$'), ('sophisticated', 'JJ'), ('commercial', 'JJ'), ('computer', 'NN'), ('bulletin', 'NNP'), ('board', 'NN'), ('system', 'NN')]), ('.', '.')]),\n",
       " Tree('S', [Tree('NP', [('authorities', 'NNS')]), ('allege', 'VBP'), Tree('NP', [('davis', 'NN')]), ('was', 'VBD'), ('selling', 'VBG'), Tree('NP', [('pornographic', 'JJ'), ('computerized', 'VBN'), ('materials', 'NNS')]), ('on', 'IN'), Tree('NP', [('cd-rom', 'NN')]), ('and', 'CC'), ('through', 'IN'), Tree('NP', [('files', 'NNS')]), ('downloaded', 'VBN'), ('over', 'IN'), Tree('NP', [('phone', 'NN'), ('lines', 'NNS')]), ('.', '.')]),\n",
       " Tree('S', [Tree('NP', [('names', 'NNS')]), ('of', 'IN'), Tree('NP', [('everyone', 'NN')]), Tree('NP', [('who', 'WP')]), ('signed', 'VBD'), ('onto', 'IN'), Tree('NP', [('davis', 'NN')]), (\"'\", \"''\"), ('bulletin', 'RB'), Tree('NP', [('board', 'NN'), ('service', 'NN')]), (',', ','), Tree('NP', [('those', 'DT')]), Tree('NP', [('who', 'WP')]), ('downloaded', 'VBD'), ('or', 'CC'), Tree('NP', [('uploaded', 'JJ'), ('graphic', 'JJ'), ('files', 'NNS')]), ('depicting', 'VBG'), Tree('NP', [('sexual', 'JJ'), ('acts', 'NNS')]), ('and', 'CC'), Tree('NP', [('those', 'DT')]), Tree('NP', [('who', 'WP')]), ('did', 'VBD'), (\"n't\", 'RB'), ('are', 'VBP'), ('in', 'IN'), Tree('NP', [('the', 'DT'), ('hands', 'NNS')]), ('of', 'IN'), Tree('NP', [('investigators', 'NNS')]), ('.', '.')]),\n",
       " Tree('S', [('after', 'IN'), Tree('NP', [('the', 'DT'), ('arrest', 'NN')]), (',', ','), Tree('NP', [('earl', 'JJ'), ('faubion', 'NN')]), (',', ','), Tree('NP', [('a', 'DT'), ('police', 'JJ'), ('officer', 'NN')]), Tree('NP', [('who', 'WP')]), ('runs', 'VBZ'), Tree('NP', [('a', 'DT'), ('law', 'NN'), ('enforcement', 'NN')]), ('oriented', 'VBN'), Tree('NP', [('computer', 'NN'), ('bulletin', 'NN'), ('board', 'NN'), ('system', 'NN')]), (',', ','), ('got', 'VBD'), Tree('NP', [('numerous', 'JJ'), ('inquiries', 'NNS')]), ('from', 'IN'), Tree('NP', [('worried', 'JJ'), ('users', 'NNS')]), ('.', '.')]),\n",
       " Tree('S', [('``', '``'), Tree('NP', [('there', 'EX')]), ('are', 'VBP'), Tree('NP', [('a', 'DT'), ('lot', 'NN')]), ('of', 'IN'), Tree('NP', [('people', 'NNS')]), ('concerned', 'VBN'), (',', ','), (\"''\", \"''\"), Tree('NP', [('faubion', 'NN')]), ('said', 'VBD'), ('.', '.')]),\n",
       " Tree('S', [Tree('NP', [('many', 'JJ')]), Tree('NP', [('who', 'WP')]), ('used', 'VBD'), Tree('NP', [('davis', 'NN'), (\"'\", \"''\"), ('system', 'NN')]), ('for', 'IN'), Tree('NP', [('months', 'NNS')]), ('and', 'CC'), ('have', 'VBP'), ('been', 'VBN'), ('asking', 'VBG'), (',', ','), ('``', '``'), ('am', 'VBP'), ('i', 'RB'), ('in', 'IN'), Tree('NP', [('trouble', 'NN')]), ('?', '.'), (\"''\", \"''\")]),\n",
       " Tree('S', [Tree('NP', [('faubion', 'NN')]), (',', ','), Tree('NP', [('who', 'WP')]), ('ironically', 'RB'), ('channeled', 'VBD'), ('much', 'RB'), ('of', 'IN'), Tree('NP', [('his', 'PRP$'), ('computer', 'NN'), ('system', 'NN')]), Tree('NP', [(\"'s\", 'POS'), ('private', 'JJ'), ('mail', 'NN')]), ('through', 'IN'), Tree('NP', [('davis', 'NN'), (\"'\", \"''\"), ('system', 'NN')]), ('before', 'IN'), Tree('NP', [('it', 'PRP')]), ('was', 'VBD'), ('shut', 'VBN'), ('down', 'RP'), (',', ','), ('tells', 'VBZ'), Tree('NP', [('users', 'NNS')]), Tree('NP', [('that', 'WDT')]), (\"'s\", 'VBZ'), ('out', 'IN'), ('of', 'IN'), Tree('NP', [('his', 'PRP$'), ('area', 'NN')]), ('of', 'IN'), Tree('NP', [('expertise', 'NN')]), ('.', '.')]),\n",
       " Tree('S', [Tree('NP', [('bill', 'NN'), ('holmes', 'NNS')]), (',', ','), Tree('NP', [('davis', 'NN'), (\"'\", \"''\"), ('attorney', 'NN')]), (',', ','), ('said', 'VBD'), Tree('NP', [('bulletin', 'JJS'), ('board', 'NN'), ('system', 'NN'), ('operators', 'NNS')]), ('fear', 'VBP'), Tree('NP', [('their', 'PRP$'), ('computers', 'NNS')]), ('will', 'MD'), ('be', 'VB'), ('seized', 'VBN'), ('along', 'IN'), ('with', 'IN'), Tree('NP', [('the', 'DT'), ('electronic', 'JJ'), ('mail', 'NN'), ('inside', 'NN')]), ('.', '.')]),\n",
       " Tree('S', [Tree('NP', [('the', 'DT'), ('davis', 'NN'), ('bust', 'NN')]), ('sent', 'VBD'), Tree('NP', [('a', 'DT'), ('chill', 'NN')]), ('throughout', 'IN'), Tree('NP', [('the', 'DT'), ('national', 'JJ'), ('computer', 'NN'), ('community', 'NN')]), (',', ','), ('said', 'VBD'), Tree('NP', [('jack', 'NN'), ('rickard', 'NN')]), (',', ','), Tree('NP', [('editor', 'NN'), ('and', 'CC'), ('publisher', 'NN')]), ('of', 'IN'), Tree('NP', [('boardwatch', 'NN'), ('magazine', 'NN')]), (',', ','), Tree('NP', [('a', 'DT'), ('bulletin', 'NN'), ('board', 'NN'), ('newsletter', 'NN')]), ('published', 'VBN'), ('in', 'IN'), Tree('NP', [('littleton', 'NN')]), (',', ','), ('colo.', 'VBP'), ('``', '``'), Tree('NP', [('it', 'PRP')]), (\"'s\", 'VBZ'), ('causing', 'VBG'), Tree('NP', [('chaos', 'NN')]), (',', ','), (\"''\", \"''\"), Tree('NP', [('he', 'PRP')]), ('said', 'VBD'), ('.', '.')]),\n",
       " Tree('S', [Tree('NP', [('rickard', 'NN')]), ('said', 'VBD'), Tree('NP', [('oklahoma', 'JJ'), ('city', 'NN')]), ('is', 'VBZ'), ('being', 'VBG'), ('viewed', 'VBN'), ('``', '``'), Tree('NP', [('a', 'DT'), ('little', 'JJ'), ('bit', 'NN')]), ('like', 'IN'), Tree('NP', [('clown', 'JJ'), ('city', 'NN')]), (\"''\", \"''\"), ('in', 'IN'), Tree('NP', [('computer', 'NN'), ('circles', 'NNS')]), (',', ','), ('since', 'IN'), Tree('NP', [('the', 'DT'), ('explicit', 'JJ'), ('material', 'NN'), ('davis', 'NN')]), ('offered', 'VBD'), ('can', 'MD'), ('be', 'VB'), ('purchased', 'VBN'), ('in', 'IN'), Tree('NP', [('nearly', 'RB'), ('every', 'DT'), ('computer', 'NN'), ('magazine', 'NN')]), ('and', 'CC'), ('is', 'VBZ'), ('carried', 'VBN'), ('by', 'IN'), Tree('NP', [('numerous', 'JJ'), ('bulletin', 'NN'), ('boards', 'NNS')]), ('.', '.')]),\n",
       " Tree('S', [('``', '``'), Tree('NP', [('this', 'DT')]), ('is', 'VBZ'), ('off', 'IN'), Tree('NP', [('the', 'DT'), ('shelf', 'NN')]), (',', ','), (\"''\", \"''\"), Tree('NP', [('he', 'PRP')]), ('said', 'VBD'), ('.', '.')]),\n",
       " Tree('S', [('``', '``'), Tree('NP', [('it', 'PRP')]), (\"'s\", 'VBZ'), ('considered', 'VBN'), ('pretty', 'RB'), Tree('NP', [('mundane', 'JJ'), ('stuff', 'NN')]), ('.', '.'), (\"''\", \"''\")]),\n",
       " Tree('S', [Tree('NP', [('widespread', 'JJ'), ('availability', 'NN')]), ('is', 'VBZ'), ('not', 'RB'), Tree('NP', [('a', 'DT'), ('defense', 'NN')]), (',', ','), ('however', 'RB'), (',', ','), Tree('NP', [('attorney', 'NN'), ('holmes', 'NNS')]), ('said', 'VBD'), ('.', '.')]),\n",
       " Tree('S', [Tree('NP', [('the', 'DT'), ('allegedly', 'RB'), ('illegal', 'JJ'), ('material', 'NN')]), ('was', 'VBD'), ('contained', 'VBN'), ('on', 'IN'), Tree('NP', [('four', 'CD'), ('read-only', 'JJ'), ('memory', 'NN'), ('compact', 'JJ'), ('discs', 'NN')]), ('and', 'CC'), ('represented', 'VBD'), Tree('NP', [('only', 'RB')]), Tree('NP', [('a', 'DT'), ('fraction', 'NN')]), ('of', 'IN'), Tree('NP', [('information', 'NN')]), ('offered', 'VBN'), ('by', 'IN'), Tree('NP', [('davis', 'NN')]), ('.', '.')]),\n",
       " Tree('S', [Tree('NP', [('oklahoma', 'JJ'), ('city', 'NN'), ('police', 'NN')]), ('referred', 'VBD'), Tree('NP', [('questions', 'NNS')]), ('on', 'IN'), Tree('NP', [('the', 'DT'), ('davis', 'NN'), ('case', 'NN')]), ('to', 'TO'), Tree('NP', [('the', 'DT'), ('district', 'NN'), ('attorney', 'NN')]), Tree('NP', [(\"'s\", 'POS'), ('office', 'NN')]), ('.', '.')]),\n",
       " Tree('S', [Tree('NP', [('an', 'DT'), ('assistant', 'JJ'), ('prosecutor', 'NN')]), ('handling', 'VBG'), Tree('NP', [('the', 'DT'), ('case', 'NN')]), ('referred', 'VBD'), Tree('NP', [('questions', 'NNS')]), ('to', 'TO'), Tree('NP', [('district', 'NN'), ('attorney', 'NN'), ('bob', 'NN'), ('macy', 'NN')]), (',', ','), Tree('NP', [('who', 'WP')]), ('did', 'VBD'), ('not', 'RB'), ('return', 'VB'), Tree('NP', [('several', 'JJ'), ('phone', 'NN'), ('calls', 'NNS')]), ('.', '.')]),\n",
       " Tree('S', [Tree('NP', [('the', 'DT'), ('bust', 'NN')]), ('will', 'MD'), ('test', 'VB'), Tree('NP', [('oklahoma', 'NN'), ('laws', 'NNS')]), ('on', 'IN'), ('``', '``'), Tree('NP', [('community', 'NN'), ('standards', 'NNS')]), (\"''\", \"''\"), ('regarding', 'VBG'), Tree('NP', [('pornography', 'NN')]), (',', ','), ('said', 'VBD'), Tree('NP', [('mike', 'NN'), ('godwin', 'NN')]), (',', ','), Tree('NP', [('attorney', 'NN')]), ('for', 'IN'), Tree('NP', [('the', 'DT'), ('electronic', 'JJ'), ('frontier', 'NN'), ('foundation', 'NN')]), ('.', '.')]),\n",
       " Tree('S', [Tree('NP', [('the', 'DT'), ('washington', 'NN')]), (',', ','), Tree('NP', [('d.c.', 'NN')]), (',', ','), Tree('NP', [('advocacy', 'NN'), ('group', 'NN')]), ('is', 'VBZ'), ('funded', 'VBN'), ('by', 'IN'), Tree('NP', [('donors', 'NNS')]), Tree('NP', [('that', 'WDT')]), ('include', 'VBP'), Tree('NP', [('large', 'JJ'), ('software', 'NN'), ('companies', 'NNS')]), ('.', '.')]),\n",
       " Tree('S', [('``', '``'), ('when', 'WRB'), Tree('NP', [('you', 'PRP')]), ('talk', 'VBP'), ('about', 'IN'), Tree('NP', [('community', 'NN'), ('standards', 'NNS')]), (',', ','), Tree('NP', [('who', 'WP')]), (\"'s\", 'VBZ'), Tree('NP', [('the', 'DT'), ('real', 'JJ'), ('community', 'NN')]), ('?', '.'), (\"''\", \"''\")]),\n",
       " Tree('S', [Tree('NP', [('godwin', 'NN'), ('wonders', 'NNS')]), ('.', '.')]),\n",
       " Tree('S', [('``', '``'), ('is', 'VBZ'), Tree('NP', [('it', 'PRP')]), Tree('NP', [('the', 'DT'), ('city', 'NN')]), ('or', 'CC'), ('...', ':'), Tree('NP', [('the', 'DT'), ('community', 'NN')]), ('of', 'IN'), Tree('NP', [('people', 'NNS')]), ('on-line', 'JJ'), ('?', '.'), (\"''\", \"''\")]),\n",
       " Tree('S', [Tree('NP', [('holmes', 'NNS')]), (',', ','), Tree('NP', [('a', 'DT'), ('former', 'JJ'), ('cleveland', 'NN'), ('county', 'NN'), ('prosecutor', 'NN')]), (',', ','), ('calls', 'VBZ'), Tree('NP', [('oklahoma', 'NN')]), Tree('NP', [(\"'s\", 'POS'), ('pornography', 'NN'), ('law', 'NN')]), (\"''\", \"''\"), Tree('NP', [('an', 'DT'), ('extremely', 'RB'), ('broad', 'JJ'), ('statute', 'NN')]), ('.', '.'), (\"''\", \"''\")]),\n",
       " Tree('S', [('``', '``'), Tree('NP', [('i', 'NN')]), (\"'m\", 'VBP'), ('not', 'RB'), ('sure', 'JJ'), Tree('NP', [('it', 'PRP')]), ('would', 'MD'), (\"n't\", 'RB'), ('include', 'VB'), Tree('NP', [('playboy', 'NN'), ('or', 'CC'), ('penthouse', 'NN'), ('type', 'NN'), ('publications', 'NNS')]), (',', ','), (\"''\", \"''\"), Tree('NP', [('he', 'PRP')]), ('said', 'VBD'), ('.', '.')]),\n",
       " Tree('S', [Tree('NP', [('legal', 'JJ'), ('experts', 'NNS')]), ('say', 'VBP'), Tree('NP', [('oklahoma', 'PRP')]), (\"'s\", 'VBZ'), Tree('NP', [('law', 'NN')]), ('appears', 'VBZ'), ('aimed', 'VBN'), ('against', 'IN'), Tree('NP', [('sale', 'NN'), ('or', 'CC'), ('distribution', 'NN')]), ('of', 'IN'), Tree('NP', [('pornographic', 'JJ'), ('material', 'NN')]), ('.', '.')]),\n",
       " Tree('S', [Tree('NP', [('that', 'DT')]), ('leaves', 'VBZ'), Tree('NP', [('some', 'DT')]), ('to', 'TO'), ('wonder', 'VB'), ('whether', 'IN'), ('passing', 'VBG'), Tree('NP', [('a', 'DT'), ('free', 'JJ'), ('copy', 'NN')]), ('to', 'TO'), Tree('NP', [('a', 'DT'), ('friend', 'NN')]), ('constitutes', 'VBZ'), Tree('NP', [('distribution', 'NN')]), ('.', '.')]),\n",
       " Tree('S', [Tree('NP', [('part', 'NN')]), ('of', 'IN'), Tree('NP', [('the', 'DT'), ('law', 'NN')]), ('also', 'RB'), ('appears', 'VBZ'), ('to', 'TO'), ('make', 'VB'), ('possession', 'NN'), Tree('NP', [('a', 'DT'), ('crime', 'NN')]), (',', ','), ('but', 'CC'), Tree('NP', [('u.s.', 'JJ'), ('supreme', 'JJ'), ('court', 'NN'), ('rulings', 'NNS')]), ('have', 'VBP'), ('backed', 'VBN'), Tree('NP', [('an', 'DT'), ('individual', 'NN')]), Tree('NP', [(\"'s\", 'POS'), ('right', 'NN')]), ('to', 'TO'), ('own', 'VB'), Tree('NP', [('such', 'JJ'), ('material', 'NN')]), (',', ','), Tree('NP', [('holmes', 'NNS')]), ('said', 'VBD'), ('.', '.')]),\n",
       " Tree('S', [('also', 'RB'), (',', ','), Tree('NP', [('free', 'JJ'), ('speech', 'NN'), ('guarantees', 'NNS')]), ('likely', 'RB'), ('would', 'MD'), ('protect', 'VB'), Tree('NP', [('those', 'DT')]), Tree('NP', [('who', 'WP')]), ('use', 'VBP'), Tree('NP', [('words', 'NNS')]), ('to', 'TO'), ('describe', 'VB'), Tree('NP', [('pornographic', 'JJ'), ('acts', 'NNS')]), (',', ','), Tree('NP', [('he', 'PRP')]), ('said', 'VBD'), ('.', '.')]),\n",
       " Tree('S', [Tree('NP', [('explicit', 'JJ'), ('materials', 'NNS')]), ('depicting', 'VBG'), Tree('NP', [('children', 'NNS')]), ('are', 'VBP'), ('covered', 'VBN'), ('under', 'IN'), Tree('NP', [('much', 'JJ'), ('stricter', 'JJR'), ('laws', 'NNS')]), (',', ','), ('but', 'CC'), Tree('NP', [('davis', 'NN'), (\"'\", \"''\"), ('cds', 'NNS')]), ('contained', 'VBD'), Tree('NP', [('no', 'DT'), ('such', 'JJ'), ('material', 'NN')]), ('.', '.')]),\n",
       " Tree('S', [('apart', 'RB'), ('from', 'IN'), Tree('NP', [('the', 'DT'), ('pornography', 'NN'), ('question', 'NN')]), ('is', 'VBZ'), Tree('NP', [('the', 'DT'), ('issue', 'NN')]), ('of', 'IN'), Tree('NP', [('electronic', 'JJ'), ('mail', 'NN')]), ('seized', 'VBN'), ('with', 'IN'), Tree('NP', [('davis', 'NN'), (\"'\", \"''\"), ('computer', 'NN'), ('equipment', 'NN')]), (',', ','), Tree('NP', [('correspondence', 'NN'), ('most', 'JJS'), ('legal', 'JJ'), ('experts', 'NNS')]), ('say', 'VBP'), ('is', 'VBZ'), ('protected', 'VBN'), ('by', 'IN'), Tree('NP', [('federal', 'JJ'), ('law', 'NN')]), ('.', '.')]),\n",
       " Tree('S', [Tree('NP', [('davis', 'NN'), (\"'\", \"''\"), ('computer', 'NN')]), ('was', 'VBD'), Tree('NP', [('part', 'NN')]), ('of', 'IN'), Tree('NP', [('a', 'DT'), ('large', 'JJ'), ('electronic', 'JJ'), ('mail', 'NN'), ('system', 'NN')]), Tree('NP', [('that', 'WDT')]), ('shuttled', 'VBD'), Tree('NP', [('messages', 'NNS')]), ('across', 'IN'), Tree('NP', [('the', 'DT'), ('country', 'NN')]), ('.', '.')]),\n",
       " Tree('S', [Tree('NP', [('critics', 'NNS')]), ('of', 'IN'), Tree('NP', [('the', 'DT'), ('bust', 'NN')]), ('say', 'VBP'), Tree('NP', [('likely', 'JJ'), ('lawsuits', 'NNS')]), ('over', 'IN'), Tree('NP', [('the', 'DT'), ('mail', 'NN')]), ('might', 'MD'), ('show', 'VB'), Tree('NP', [('the', 'DT'), ('government', 'NN')]), ('``', '``'), ('has', 'VBZ'), ('bitten', 'VBN'), ('off', 'RP'), Tree('NP', [('more', 'RBR')]), ('than', 'IN'), Tree('NP', [('it', 'PRP')]), ('can', 'MD'), ('chew', 'VB'), ('.', '.'), (\"''\", \"''\")]),\n",
       " Tree('S', [Tree('NP', [('they', 'PRP')]), ('point', 'VBP'), ('to', 'TO'), Tree('NP', [('a', 'DT'), ('case', 'NN')]), ('in', 'IN'), Tree('NP', [('austin', 'NN')]), ('where', 'WRB'), Tree('NP', [('the', 'DT'), ('owner', 'NN')]), ('of', 'IN'), Tree('NP', [('a', 'DT'), ('computer', 'NN')]), ('won', 'VBD'), Tree('NP', [('a', 'DT'), ('$', '$'), ('50,000', 'CD'), ('damage', 'NN'), ('award', 'NN')]), ('over', 'IN'), Tree('NP', [('e-mail', 'JJ')]), ('seized', 'VBN'), ('by', 'IN'), Tree('NP', [('the', 'DT'), ('secret', 'JJ'), ('service', 'NN')]), ('.', '.')]),\n",
       " Tree('S', [Tree('NP', [('the', 'DT'), ('government', 'NN')]), ('also', 'RB'), ('was', 'VBD'), ('liable', 'JJ'), ('for', 'IN'), Tree('NP', [('$', '$'), ('1,000', 'CD')]), ('for', 'IN'), Tree('NP', [('each', 'DT'), ('user', 'NN')]), ('of', 'IN'), Tree('NP', [('the', 'DT'), ('e-mail', 'NN')]), ('.', '.')]),\n",
       " Tree('S', [('in', 'IN'), Tree('NP', [('davis', 'NN'), (\"'\", \"''\"), ('case', 'NN')]), (',', ','), Tree('NP', [('that', 'WDT')]), ('could', 'MD'), ('be', 'VB'), ('up', 'RB'), ('to', 'TO'), Tree('NP', [('2,000', 'CD'), ('clients', 'NNS')]), (',', ','), ('or', 'CC'), Tree('NP', [('$', '$'), ('2', 'CD'), ('million', 'CD')]), ('.', '.')]),\n",
       " Tree('S', [('``', '``'), Tree('NP', [('the', 'DT'), ('city', 'NN')]), ('of', 'IN'), Tree('NP', [('oklahoma', 'JJ'), ('city', 'NN')]), ('could', 'MD'), ('be', 'VB'), ('on', 'IN'), Tree('NP', [('the', 'DT'), ('hook', 'NN')]), ('for', 'IN'), Tree('NP', [('that', 'DT')]), (',', ','), (\"''\", \"''\"), Tree('NP', [('rickard', 'NN')]), ('said', 'VBD'), ('.', '.')]),\n",
       " Tree('S', [Tree('NP', [('critics', 'NNS')]), ('also', 'RB'), ('say', 'VBP'), Tree('NP', [('police', 'NNS')]), ('over', 'RB'), ('reached', 'VBN'), ('in', 'IN'), ('grabbing', 'VBG'), Tree('NP', [('davis', 'NN')]), (\"'\", \"''\"), Tree('NP', [('entire', 'JJ'), ('system', 'NN')]), (',', ','), ('shutting', 'VBG'), ('down', 'RP'), Tree('NP', [('his', 'PRP$'), ('pay-for-play', 'JJ'), ('computer', 'NN'), ('service', 'NN')]), (',', ','), ('because', 'IN'), ('of', 'IN'), Tree('NP', [('four', 'CD'), ('cds', 'NNS')]), ('.', '.')]),\n",
       " Tree('S', [Tree('NP', [('prosecutors', 'NNS')]), ('are', 'VBP'), ('seeking', 'VBG'), Tree('NP', [('forfeiture', 'NN')]), ('of', 'IN'), Tree('NP', [('the', 'DT'), ('system', 'NN')]), (',', ','), Tree('NP', [('which', 'WDT')]), ('includes', 'VBZ'), Tree('NP', [('a', 'DT'), ('13', 'CD'), ('gigabyte', 'JJ'), ('memory', 'NN'), ('unit', 'NN')]), ('and', 'CC'), Tree('NP', [('10', 'CD'), ('high', 'JJ'), ('speed', 'NN'), ('modems', 'NNS')]), ('.', '.')]),\n",
       " Tree('S', [('``', '``'), Tree('NP', [('they', 'PRP')]), ('do', 'VBP'), (\"n't\", 'RB'), ('have', 'VB'), ('to', 'TO'), ('seize', 'VB'), Tree('NP', [('it', 'PRP')]), ('any', 'DT'), Tree('NP', [('more', 'JJR')]), ('than', 'IN'), Tree('NP', [('they', 'PRP')]), ('have', 'VBP'), ('to', 'TO'), ('seize', 'VB'), Tree('NP', [('the', 'DT'), ('building', 'NN')]), ('when', 'WRB'), Tree('NP', [('they', 'PRP')]), ('confiscate', 'VBP'), Tree('NP', [('a', 'DT'), ('bookstore', 'NN')]), (',', ','), (\"''\", \"''\"), ('said', 'VBD'), Tree('NP', [('godwin', 'NN')]), ('of', 'IN'), Tree('NP', [('the', 'DT'), ('electronic', 'JJ'), ('frontier', 'NN'), ('foundation', 'NN')]), ('.', '.')]),\n",
       " Tree('S', [Tree('NP', [('\\x1a', 'NN')])])]"
      ]
     },
     "execution_count": 25,
     "metadata": {},
     "output_type": "execute_result"
    }
   ],
   "source": [
    "p"
   ]
  },
  {
   "cell_type": "markdown",
   "metadata": {},
   "source": [
    "## The idea behind\n",
    "\n",
    "- classifier-based tagger and chunker\n",
    "- tagger assigns to the words IOB taggs (In, Out, Begin) - identifies witch POS tag is in NP chunk, out of it or starts it\n",
    "- custom feature extractor\n",
    "    -adds previous pos tag to allow classifier to model interactions between adjusent tags\n",
    "    \n",
    "- where we use the training corpus to find the chunk tag (I, O, or B) that is most likely for each part-of-speech tag\n",
    "- chunker splits the tagged text"
   ]
  },
  {
   "cell_type": "markdown",
   "metadata": {},
   "source": [
    "### MaxentClassifier docs\n",
    "\n",
    "A classifier model based on maximum entropy modeling framework.  This\n",
    "framework considers all of the probability distributions that are\n",
    "empirically consistent with the training data; and chooses the\n",
    "distribution with the highest entropy.  A probability distribution is\n",
    "\"empirically consistent\" with a set of training data if its estimated\n",
    "frequency with which a class and a feature vector value co-occur is\n",
    "equal to the actual frequency in the data.\n",
    "\n",
    "Terminology: 'feature'\n",
    "======================\n",
    "The term *feature* is usually used to refer to some property of an\n",
    "unlabeled token.  For example, when performing word sense\n",
    "disambiguation, we might define a ``'prevword'`` feature whose value is\n",
    "the word preceding the target word.  However, in the context of\n",
    "maxent modeling, the term *feature* is typically used to refer to a\n",
    "property of a \"labeled\" token.  In order to prevent confusion, we\n",
    "will introduce two distinct terms to disambiguate these two different\n",
    "concepts:\n",
    "\n",
    "  - An \"input-feature\" is a property of an unlabeled token.\n",
    "  - A \"joint-feature\" is a property of a labeled token.\n",
    "\n",
    "In the rest of the ``nltk.classify`` module, the term \"features\" is\n",
    "used to refer to what we will call \"input-features\" in this module.\n",
    "\n",
    "In literature that describes and discusses maximum entropy models,\n",
    "input-features are typically called \"contexts\", and joint-features\n",
    "are simply referred to as \"features\".\n",
    "\n",
    "Converting Input-Features to Joint-Features\n",
    "-------------------------------------------\n",
    "In maximum entropy models, joint-features are required to have numeric\n",
    "values.  Typically, each input-feature ``input_feat`` is mapped to a\n",
    "set of joint-features of the form:\n",
    "\n",
    "|   joint_feat(token, label) = { 1 if input_feat(token) == feat_val\n",
    "|                              {      and label == some_label\n",
    "|                              {\n",
    "|                              { 0 otherwise\n",
    "\n",
    "For all values of ``feat_val`` and ``some_label``.  This mapping is\n",
    "performed by classes that implement the ``MaxentFeatureEncodingI``\n",
    "interface."
   ]
  }
 ],
 "metadata": {
  "kernelspec": {
   "display_name": "Python 3",
   "language": "python",
   "name": "python3"
  },
  "language_info": {
   "codemirror_mode": {
    "name": "ipython",
    "version": 3
   },
   "file_extension": ".py",
   "mimetype": "text/x-python",
   "name": "python",
   "nbconvert_exporter": "python",
   "pygments_lexer": "ipython3",
   "version": "3.6.2"
  }
 },
 "nbformat": 4,
 "nbformat_minor": 2
}
